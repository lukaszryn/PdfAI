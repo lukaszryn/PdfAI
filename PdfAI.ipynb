{
 "cells": [
  {
   "cell_type": "markdown",
   "metadata": {},
   "source": [
    "### Przygotowanie środowiska"
   ]
  },
  {
   "cell_type": "code",
   "execution_count": null,
   "metadata": {},
   "outputs": [],
   "source": [
    "pip install tensorflow reportlab"
   ]
  },
  {
   "cell_type": "markdown",
   "metadata": {},
   "source": [
    "### Sieć neuronowa z TensorFlow"
   ]
  },
  {
   "cell_type": "code",
   "execution_count": null,
   "metadata": {},
   "outputs": [],
   "source": [
    "import tensorflow as tf\n",
    "\n",
    "# Przykład bardzo prostego modelu\n",
    "model = tf.keras.Sequential([\n",
    "    tf.keras.layers.Dense(10, activation='relu', input_shape=(10,)),  # Przykładowa warstwa wejściowa\n",
    "    tf.keras.layers.Dense(3, activation='softmax')  # Warstwa wyjściowa dla klasyfikacji do 3 kategorii\n",
    "])\n",
    "\n",
    "model.compile(optimizer='adam',\n",
    "              loss='sparse_categorical_crossentropy',\n",
    "              metrics=['accuracy'])\n",
    "\n",
    "# model.fit(X_train, y_train, epochs=10)  # Trenowanie modelu, X_train i y_train to twoje dane\n"
   ]
  },
  {
   "cell_type": "markdown",
   "metadata": {},
   "source": [
    "### Generowanie PDF z danych"
   ]
  },
  {
   "cell_type": "code",
   "execution_count": null,
   "metadata": {},
   "outputs": [],
   "source": [
    "from reportlab.lib import colors\n",
    "from reportlab.lib.pagesizes import letter\n",
    "from reportlab.platypus import SimpleDocTemplate, Table, TableStyle, Paragraph, Spacer, Image\n",
    "from reportlab.lib.styles import getSampleStyleSheet\n",
    "\n",
    "def generate_advanced_pdf(data, image_path):\n",
    "    doc = SimpleDocTemplate(\"advanced_output.pdf\", pagesize=letter)\n",
    "    story = []\n",
    "    styles = getSampleStyleSheet()\n",
    "    \n",
    "    # Nagłówek\n",
    "    story.append(Paragraph(\"Zaawansowany Raport\", styles['Title']))\n",
    "    story.append(Spacer(1, 12))\n",
    "    \n",
    "    # Dodanie tabeli\n",
    "    table_data = [[\"Klucz\", \"Wartość\"]] + [[key, str(value)] for key, value in data.items()]\n",
    "    table = Table(table_data)\n",
    "    table.setStyle(TableStyle([\n",
    "        ('BACKGROUND', (0, 0), (-1, 0), colors.grey),\n",
    "        ('TEXTCOLOR', (0, 0), (-1, 0), colors.whitesmoke),\n",
    "        ('ALIGN', (0, 0), (-1, -1), 'CENTER'),\n",
    "        ('FONTNAME', (0, 0), (-1, 0), 'Helvetica-Bold'),\n",
    "        ('BOTTOMPADDING', (0, 0), (-1, 0), 12),\n",
    "        ('BACKGROUND', (0, 1), (-1, -1), colors.beige),\n",
    "        ('GRID', (0, 0), (-1, -1), 1, colors.black)\n",
    "    ]))\n",
    "    story.append(table)\n",
    "    story.append(Spacer(1, 12))\n",
    "    \n",
    "    # Dodanie obrazu\n",
    "    if image_path:\n",
    "        story.append(Image(image_path, width=200, height=150))\n",
    "    \n",
    "    doc.build(story)\n",
    "\n",
    "data = {\n",
    "    \"Imię\": \"Anna\",\n",
    "    \"Nazwisko\": \"Nowak\",\n",
    "    \"Wiek\": 30,\n",
    "    \"Email\": \"anna.nowak@example.com\"\n",
    "}\n",
    "\n",
    "generate_advanced_pdf(data, \"data.jpg\")\n"
   ]
  },
  {
   "cell_type": "markdown",
   "metadata": {},
   "source": [
    "### Rozszerzenie"
   ]
  },
  {
   "cell_type": "code",
   "execution_count": null,
   "metadata": {},
   "outputs": [],
   "source": [
    "import matplotlib.pyplot as plt\n",
    "\n",
    "# Generowanie wykresu i zapis do pliku PNG\n",
    "def generate_chart(data):\n",
    "    labels = list(data.keys())\n",
    "    values = list(data.values())\n",
    "\n",
    "    plt.figure(figsize=(6, 3))\n",
    "    plt.bar(labels, values, color='skyblue')\n",
    "    plt.xlabel('Kategorie')\n",
    "    plt.ylabel('Wartości')\n",
    "    plt.title('Wykres wyników')\n",
    "    plt.tight_layout()\n",
    "\n",
    "    buffer = io.BytesIO()\n",
    "    plt.savefig(buffer, format='png')\n",
    "    buffer.seek(0)\n",
    "    plt.close()\n",
    "    return buffer\n",
    "\n",
    "# Funkcja do generowania zaawansowanego PDF\n",
    "def generate_advanced_pdf_with_chart(data, chart_data):\n",
    "    doc = SimpleDocTemplate(\"advanced_report_with_chart.pdf\", pagesize=letter)\n",
    "    story = []\n",
    "    styles = getSampleStyleSheet()\n",
    "\n",
    "    story.append(Paragraph(\"Zaawansowany Raport z Wykresem\", styles['Title']))\n",
    "    story.append(Spacer(1, 12))\n",
    "\n",
    "    # Dodanie tabeli z danymi\n",
    "    table_data = [[\"Klucz\", \"Wartość\"]] + [[key, str(value)] for key, value in data.items()]\n",
    "    table = Table(table_data, spaceBefore=12, spaceAfter=12)\n",
    "    table.setStyle(TableStyle([\n",
    "        ('BACKGROUND', (0, 0), (-1, 0), colors.grey),\n",
    "        ('TEXTCOLOR', (0, 0), (-1, 0), colors.whitesmoke),\n",
    "        ('ALIGN', (0, 0), (-1, -1), 'CENTER'),\n",
    "        ('FONTNAME', (0, 0), (-1, 0), 'Helvetica-Bold'),\n",
    "        ('BOTTOMPADDING', (0, 0), (-1, 0), 12),\n",
    "        ('BACKGROUND', (0, 1), (-1, -1), colors.beige),\n",
    "        ('GRID', (0, 0), (-1, -1), 1, colors.black),\n",
    "    ]))\n",
    "    story.append(table)\n",
    "\n",
    "    # Dodanie wykresu\n",
    "    chart_image = generate_chart(chart_data)\n",
    "    story.append(Image(chart_image, width=400, height=200))\n",
    "\n",
    "    doc.build(story)\n",
    "\n",
    "data = {\n",
    "    \"Imię\": \"Anna\",\n",
    "    \"Nazwisko\": \"Nowak\",\n",
    "    \"Wiek\": 30,\n",
    "    \"Email\": \"anna.nowak@example.com\"\n",
    "}\n",
    "\n",
    "chart_data = {\n",
    "    \"Kategoria 1\": 10,\n",
    "    \"Kategoria 2\": 15,\n",
    "    \"Kategoria 3\": 7,\n",
    "}\n",
    "\n",
    "generate_advanced_pdf_with_chart(data, chart_data)"
   ]
  }
 ],
 "metadata": {
  "language_info": {
   "name": "python"
  }
 },
 "nbformat": 4,
 "nbformat_minor": 2
}
