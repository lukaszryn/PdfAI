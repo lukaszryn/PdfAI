{
 "cells": [
  {
   "cell_type": "markdown",
   "metadata": {},
   "source": [
    "### Przygotowanie środowiska"
   ]
  },
  {
   "cell_type": "code",
   "execution_count": null,
   "metadata": {},
   "outputs": [],
   "source": [
    "pip install tensorflow reportlab"
   ]
  },
  {
   "cell_type": "markdown",
   "metadata": {},
   "source": [
    "### Generowanie PDF z danych"
   ]
  },
  {
   "cell_type": "code",
   "execution_count": null,
   "metadata": {},
   "outputs": [],
   "source": [
    "from reportlab.lib.pagesizes import letter\n",
    "from reportlab.pdfgen import canvas\n",
    "\n",
    "def generate_pdf(data):\n",
    "    c = canvas.Canvas(\"output.pdf\", pagesize=letter)\n",
    "    c.drawString(100, 750, \"Raport\")\n",
    "    \n",
    "    # Załóżmy, że 'data' to słownik z danymi do wyświetlenia\n",
    "    for i, (key, value) in enumerate(data.items(), start=1):\n",
    "        c.drawString(100, 750 - 30*i, f\"{key}: {value}\")\n",
    "    \n",
    "    c.save()\n",
    "\n",
    "# Przykładowe dane, mogą być wynikiem działania sieci neuronowej\n",
    "data = {\n",
    "    \"Imię\": \"Jan\",\n",
    "    \"Nazwisko\": \"Kowalski\",\n",
    "    \"Wiek\": 28,\n",
    "    \"Email\": \"jan.kowalski@example.com\"\n",
    "}\n",
    "\n",
    "generate_pdf(data)\n"
   ]
  }
 ],
 "metadata": {
  "language_info": {
   "name": "python"
  }
 },
 "nbformat": 4,
 "nbformat_minor": 2
}
